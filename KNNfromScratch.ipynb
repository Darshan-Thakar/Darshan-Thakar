{
  "nbformat": 4,
  "nbformat_minor": 0,
  "metadata": {
    "colab": {
      "provenance": [],
      "authorship_tag": "ABX9TyMdIvD9ZN8wSwLHaaD9psAM",
      "include_colab_link": true
    },
    "kernelspec": {
      "name": "python3",
      "display_name": "Python 3"
    },
    "language_info": {
      "name": "python"
    }
  },
  "cells": [
    {
      "cell_type": "markdown",
      "metadata": {
        "id": "view-in-github",
        "colab_type": "text"
      },
      "source": [
        "<a href=\"https://colab.research.google.com/github/Darshan-Thakar/Darshan-Thakar/blob/main/KNNfromScratch.ipynb\" target=\"_parent\"><img src=\"https://colab.research.google.com/assets/colab-badge.svg\" alt=\"Open In Colab\"/></a>"
      ]
    },
    {
      "cell_type": "code",
      "execution_count": 4,
      "metadata": {
        "id": "qUShCzH0Ael_"
      },
      "outputs": [],
      "source": [
        "# importing the required libraries \n",
        "\n",
        "import numpy as np\n",
        "from sklearn.model_selection import train_test_split\n",
        "from sklearn.datasets import load_iris\n",
        "import pandas as pd\n",
        "import matplotlib.pyplot as plt\n",
        "from collections import Counter"
      ]
    },
    {
      "cell_type": "code",
      "source": [
        "# Importing the dataset\n",
        "\n",
        "Iris=load_iris();\n",
        "X=Iris.data;\n",
        "Y=Iris.target;"
      ],
      "metadata": {
        "id": "nvAgisVuAvFp"
      },
      "execution_count": 5,
      "outputs": []
    },
    {
      "cell_type": "code",
      "source": [
        "# Train test split the dataset \n",
        "\n",
        "X_train,X_test,Y_train,Y_test=train_test_split(X,Y,test_size=0.2,random_state=1000);\n"
      ],
      "metadata": {
        "id": "16oA7Qc6BImi"
      },
      "execution_count": 6,
      "outputs": []
    },
    {
      "cell_type": "code",
      "source": [
        "\n",
        "# Creating the function to calculate euclidean distance between two points\n",
        "\n",
        "def euclidean_distance(a,b):\n",
        "  return np.sqrt(np.sum(np.square(a-b))); \n",
        "\n",
        "# Creating the KNN model from scratch\n",
        "\n",
        "class KNN():\n",
        "  def __init__(self,k):\n",
        "    self.k=k;\n",
        "\n",
        "  def fit(self,X,Y):\n",
        "    self.X=X;\n",
        "    self.Y=Y;\n",
        "\n",
        "  def predict(self,x):\n",
        "    predictions=[self._predict(i) for i in x ];\n",
        "    return predictions;\n",
        "  \n",
        "\n",
        "  def _predict(self,x):\n",
        "    euclidean_distances=[euclidean_distance(x,x_train) for x_train in self.X];\n",
        "    k_nearest_neighbors=np.argsort(euclidean_distances)[:self.k];\n",
        "    k_nearest_labels=[self.Y[i] for i in k_nearest_neighbors];\n",
        "    most_common=Counter(k_nearest_labels).most_common(1);\n",
        "    return most_common[0][0];\n"
      ],
      "metadata": {
        "id": "OEJFEOg-BT19"
      },
      "execution_count": 15,
      "outputs": []
    },
    {
      "cell_type": "code",
      "source": [
        "knn=KNN(3);\n",
        "knn.fit(X_train,Y_train);\n",
        "print(f\" The following are the predicted values {knn.predict(X_test)}\")\n",
        "\n",
        "\n",
        "print(f\"The following are the true labels {Y_test}\")"
      ],
      "metadata": {
        "colab": {
          "base_uri": "https://localhost:8080/"
        },
        "id": "GZwlX4bQHGdp",
        "outputId": "59cb8d8b-391e-4c43-d2cf-b0a4521432d2"
      },
      "execution_count": 18,
      "outputs": [
        {
          "output_type": "stream",
          "name": "stdout",
          "text": [
            " The following are the predicted values [1, 0, 2, 2, 0, 0, 1, 1, 0, 2, 2, 1, 0, 0, 2, 1, 1, 1, 0, 0, 1, 2, 2, 2, 1, 0, 1, 1, 1, 2]\n",
            "The following are the true labels [1 0 2 2 0 0 1 1 0 2 2 1 0 0 2 1 2 1 0 0 1 1 2 2 1 0 1 1 1 2]\n"
          ]
        }
      ]
    },
    {
      "cell_type": "code",
      "source": [
        "])"
      ],
      "metadata": {
        "colab": {
          "base_uri": "https://localhost:8080/"
        },
        "id": "qFe4vn-LHVDw",
        "outputId": "fa5bba1c-16c9-4fcd-cc17-f0b287410f64"
      },
      "execution_count": null,
      "outputs": [
        {
          "output_type": "stream",
          "name": "stdout",
          "text": [
            "1\n"
          ]
        }
      ]
    },
    {
      "cell_type": "code",
      "source": [],
      "metadata": {
        "id": "lDY8VdtCHbUj"
      },
      "execution_count": null,
      "outputs": []
    }
  ]
}