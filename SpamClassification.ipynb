{
  "cells": [
    {
      "cell_type": "markdown",
      "metadata": {
        "id": "view-in-github",
        "colab_type": "text"
      },
      "source": [
        "<a href=\"https://colab.research.google.com/github/Darshan-Thakar/Darshan-Thakar/blob/main/SpamClassification.ipynb\" target=\"_parent\"><img src=\"https://colab.research.google.com/assets/colab-badge.svg\" alt=\"Open In Colab\"/></a>"
      ]
    },
    {
      "cell_type": "code",
      "execution_count": 77,
      "metadata": {
        "id": "CekyqK62qHKZ"
      },
      "outputs": [],
      "source": [
        "# IMPORTING THE REQUIRED PACKAGES\n",
        "\n",
        "import pandas as pd\n",
        "import numpy as np\n",
        "import matplotlib.pyplot as plt\n",
        "from sklearn.ensemble import BaggingClassifier\n",
        "from sklearn.model_selection import train_test_split\n",
        "from sklearn.model_selection import GridSearchCV\n",
        "from sklearn.model_selection import cross_val_score\n",
        "from sklearn.naive_bayes import MultinomialNB\n",
        "from sklearn.naive_bayes import GaussianNB\n",
        "from sklearn.linear_model import LogisticRegression\n",
        "from sklearn.tree import DecisionTreeClassifier\n",
        "from sklearn.ensemble import RandomForestClassifier\n",
        "from sklearn.svm import SVC\n",
        "from sklearn.preprocessing import LabelEncoder\n",
        "from sklearn.feature_extraction.text import CountVectorizer\n",
        "import pickle\n",
        "cleaned_data=\"\";"
      ]
    },
    {
      "cell_type": "markdown",
      "metadata": {
        "id": "-VH3zdgWBg6j"
      },
      "source": [
        "**DATA OBTAINING**"
      ]
    },
    {
      "cell_type": "code",
      "execution_count": 56,
      "metadata": {
        "id": "4j5-i38UrM1B"
      },
      "outputs": [],
      "source": [
        "with open(\"./SMSSpamCollection\",\"rt\") as fb:\n",
        "  cleaned_data=fb.read().replace(\",\",\"\")\n",
        "\n",
        "\n",
        "with open(\"./SMSSpamDataset\",'wt') as fb:\n",
        "  fb.write(cleaned_data)\n"
      ]
    },
    {
      "cell_type": "code",
      "execution_count": 57,
      "metadata": {
        "id": "yoR4Jq2urZw5"
      },
      "outputs": [],
      "source": [
        "df=pd.read_table(\"./SMSSpamDataset\",header=None,names=['Category','Message'])\n"
      ]
    },
    {
      "cell_type": "code",
      "execution_count": 58,
      "metadata": {
        "id": "W3Ls5TthuXc3",
        "colab": {
          "base_uri": "https://localhost:8080/",
          "height": 1383
        },
        "outputId": "cc3a9cf5-5887-4baa-a0b7-eca1ecd08a57"
      },
      "outputs": [
        {
          "output_type": "execute_result",
          "data": {
            "text/plain": [
              "                                                Message  CATEGORY\n",
              "5522                Thats cool. I want to please you...         0\n",
              "5523                            Going to join tomorrow.         0\n",
              "5524  You are awarded a SiPix Digital Camera! call 0...         1\n",
              "5525  I want to tell you how bad I feel that basical...         0\n",
              "5526  PRIVATE! Your 2003 Account Statement for shows...         1\n",
              "5527  Total disappointment when I texted you was the...         0\n",
              "5528  Its just the effect of irritation. Just ignore it         0\n",
              "5529                          What about this one then.         0\n",
              "5530  I think that tantrum's finished so yeah I'll b...         0\n",
              "5531  Compliments to you. Was away from the system. ...         0\n",
              "5532           happened here while you were adventuring         0\n",
              "5533  Hey chief can you give me a bell when you get ...         0\n",
              "5534                       Ok which your another number         0\n",
              "5535  I know you are thinkin malaria. But relax chil...         0\n",
              "5536  Aiyah ok wat as long as got improve can alread...         0\n",
              "5537  Want explicit SEX in 30 secs? Ring 02073162414...         1\n",
              "5538  I can't believe how attached I am to seeing yo...         0\n",
              "5539                         Just sleeping..and surfing         0\n",
              "5540  ASKED 3MOBILE IF 0870 CHATLINES INCLU IN FREE ...         1\n",
              "5541                              Yeah it's jus rite...         0\n",
              "5542           Armand says get your ass over to epsilon         0\n",
              "5543             U still havent got urself a jacket ah?         0\n",
              "5544  I'm taking derek &amp; taylor to walmart if I'...         0\n",
              "5545      Hi its in durban are you still on this number         0\n",
              "5546         Ic. There are a lotta childporn cars then.         0\n",
              "5547  Had your contract mobile 11 Mnths? Latest Moto...         1\n",
              "5548                  No I was trying it all weekend ;V         0\n",
              "5549  You know wot people wear. T shirts jumpers hat...         0\n",
              "5550         Cool what time you think you can get here?         0\n",
              "5551  Wen did you get so spiritual and deep. That's ...         0\n",
              "5552  Have a safe trip to Nigeria. Wish you happines...         0\n",
              "5553                        Hahaha..use your brain dear         0\n",
              "5554  Well keep in mind I've only got enough gas for...         0\n",
              "5555  Yeh. Indians was nice. Tho it did kane me off ...         0\n",
              "5556  Yes i have. So that's why u texted. Pshew...mi...         0\n",
              "5557  No. I meant the calculation is the same. That ...         0\n",
              "5558                              Sorry I'll call later         0\n",
              "5559  if you aren't here in the next  &lt;#&gt;  hou...         0\n",
              "5560                  Anything lor. Juz both of us lor.         0\n",
              "5561  Get me out of this dump heap. My mom decided t...         0\n",
              "5562  Ok lor... Sony ericsson salesman... I ask shuh...         0\n",
              "5563                                Ard 6 like dat lor.         0\n",
              "5564  Why don't you wait 'til at least wednesday to ...         0\n",
              "5565                                       Huh y lei...         0\n",
              "5566  REMINDER FROM O2: To get 2.50 pounds free call...         1\n",
              "5567  This is the 2nd time we have tried 2 contact u...         1\n",
              "5568               Will ü b going to esplanade fr home?         0\n",
              "5569  Pity * was in mood for that. So...any other su...         0\n",
              "5570  The guy did some bitching but I acted like i'd...         0\n",
              "5571                         Rofl. Its true to its name         0"
            ],
            "text/html": [
              "\n",
              "  <div id=\"df-027300e9-ca1a-4b10-9080-06b4ad07bc77\">\n",
              "    <div class=\"colab-df-container\">\n",
              "      <div>\n",
              "<style scoped>\n",
              "    .dataframe tbody tr th:only-of-type {\n",
              "        vertical-align: middle;\n",
              "    }\n",
              "\n",
              "    .dataframe tbody tr th {\n",
              "        vertical-align: top;\n",
              "    }\n",
              "\n",
              "    .dataframe thead th {\n",
              "        text-align: right;\n",
              "    }\n",
              "</style>\n",
              "<table border=\"1\" class=\"dataframe\">\n",
              "  <thead>\n",
              "    <tr style=\"text-align: right;\">\n",
              "      <th></th>\n",
              "      <th>Message</th>\n",
              "      <th>CATEGORY</th>\n",
              "    </tr>\n",
              "  </thead>\n",
              "  <tbody>\n",
              "    <tr>\n",
              "      <th>5522</th>\n",
              "      <td>Thats cool. I want to please you...</td>\n",
              "      <td>0</td>\n",
              "    </tr>\n",
              "    <tr>\n",
              "      <th>5523</th>\n",
              "      <td>Going to join tomorrow.</td>\n",
              "      <td>0</td>\n",
              "    </tr>\n",
              "    <tr>\n",
              "      <th>5524</th>\n",
              "      <td>You are awarded a SiPix Digital Camera! call 0...</td>\n",
              "      <td>1</td>\n",
              "    </tr>\n",
              "    <tr>\n",
              "      <th>5525</th>\n",
              "      <td>I want to tell you how bad I feel that basical...</td>\n",
              "      <td>0</td>\n",
              "    </tr>\n",
              "    <tr>\n",
              "      <th>5526</th>\n",
              "      <td>PRIVATE! Your 2003 Account Statement for shows...</td>\n",
              "      <td>1</td>\n",
              "    </tr>\n",
              "    <tr>\n",
              "      <th>5527</th>\n",
              "      <td>Total disappointment when I texted you was the...</td>\n",
              "      <td>0</td>\n",
              "    </tr>\n",
              "    <tr>\n",
              "      <th>5528</th>\n",
              "      <td>Its just the effect of irritation. Just ignore it</td>\n",
              "      <td>0</td>\n",
              "    </tr>\n",
              "    <tr>\n",
              "      <th>5529</th>\n",
              "      <td>What about this one then.</td>\n",
              "      <td>0</td>\n",
              "    </tr>\n",
              "    <tr>\n",
              "      <th>5530</th>\n",
              "      <td>I think that tantrum's finished so yeah I'll b...</td>\n",
              "      <td>0</td>\n",
              "    </tr>\n",
              "    <tr>\n",
              "      <th>5531</th>\n",
              "      <td>Compliments to you. Was away from the system. ...</td>\n",
              "      <td>0</td>\n",
              "    </tr>\n",
              "    <tr>\n",
              "      <th>5532</th>\n",
              "      <td>happened here while you were adventuring</td>\n",
              "      <td>0</td>\n",
              "    </tr>\n",
              "    <tr>\n",
              "      <th>5533</th>\n",
              "      <td>Hey chief can you give me a bell when you get ...</td>\n",
              "      <td>0</td>\n",
              "    </tr>\n",
              "    <tr>\n",
              "      <th>5534</th>\n",
              "      <td>Ok which your another number</td>\n",
              "      <td>0</td>\n",
              "    </tr>\n",
              "    <tr>\n",
              "      <th>5535</th>\n",
              "      <td>I know you are thinkin malaria. But relax chil...</td>\n",
              "      <td>0</td>\n",
              "    </tr>\n",
              "    <tr>\n",
              "      <th>5536</th>\n",
              "      <td>Aiyah ok wat as long as got improve can alread...</td>\n",
              "      <td>0</td>\n",
              "    </tr>\n",
              "    <tr>\n",
              "      <th>5537</th>\n",
              "      <td>Want explicit SEX in 30 secs? Ring 02073162414...</td>\n",
              "      <td>1</td>\n",
              "    </tr>\n",
              "    <tr>\n",
              "      <th>5538</th>\n",
              "      <td>I can't believe how attached I am to seeing yo...</td>\n",
              "      <td>0</td>\n",
              "    </tr>\n",
              "    <tr>\n",
              "      <th>5539</th>\n",
              "      <td>Just sleeping..and surfing</td>\n",
              "      <td>0</td>\n",
              "    </tr>\n",
              "    <tr>\n",
              "      <th>5540</th>\n",
              "      <td>ASKED 3MOBILE IF 0870 CHATLINES INCLU IN FREE ...</td>\n",
              "      <td>1</td>\n",
              "    </tr>\n",
              "    <tr>\n",
              "      <th>5541</th>\n",
              "      <td>Yeah it's jus rite...</td>\n",
              "      <td>0</td>\n",
              "    </tr>\n",
              "    <tr>\n",
              "      <th>5542</th>\n",
              "      <td>Armand says get your ass over to epsilon</td>\n",
              "      <td>0</td>\n",
              "    </tr>\n",
              "    <tr>\n",
              "      <th>5543</th>\n",
              "      <td>U still havent got urself a jacket ah?</td>\n",
              "      <td>0</td>\n",
              "    </tr>\n",
              "    <tr>\n",
              "      <th>5544</th>\n",
              "      <td>I'm taking derek &amp;amp; taylor to walmart if I'...</td>\n",
              "      <td>0</td>\n",
              "    </tr>\n",
              "    <tr>\n",
              "      <th>5545</th>\n",
              "      <td>Hi its in durban are you still on this number</td>\n",
              "      <td>0</td>\n",
              "    </tr>\n",
              "    <tr>\n",
              "      <th>5546</th>\n",
              "      <td>Ic. There are a lotta childporn cars then.</td>\n",
              "      <td>0</td>\n",
              "    </tr>\n",
              "    <tr>\n",
              "      <th>5547</th>\n",
              "      <td>Had your contract mobile 11 Mnths? Latest Moto...</td>\n",
              "      <td>1</td>\n",
              "    </tr>\n",
              "    <tr>\n",
              "      <th>5548</th>\n",
              "      <td>No I was trying it all weekend ;V</td>\n",
              "      <td>0</td>\n",
              "    </tr>\n",
              "    <tr>\n",
              "      <th>5549</th>\n",
              "      <td>You know wot people wear. T shirts jumpers hat...</td>\n",
              "      <td>0</td>\n",
              "    </tr>\n",
              "    <tr>\n",
              "      <th>5550</th>\n",
              "      <td>Cool what time you think you can get here?</td>\n",
              "      <td>0</td>\n",
              "    </tr>\n",
              "    <tr>\n",
              "      <th>5551</th>\n",
              "      <td>Wen did you get so spiritual and deep. That's ...</td>\n",
              "      <td>0</td>\n",
              "    </tr>\n",
              "    <tr>\n",
              "      <th>5552</th>\n",
              "      <td>Have a safe trip to Nigeria. Wish you happines...</td>\n",
              "      <td>0</td>\n",
              "    </tr>\n",
              "    <tr>\n",
              "      <th>5553</th>\n",
              "      <td>Hahaha..use your brain dear</td>\n",
              "      <td>0</td>\n",
              "    </tr>\n",
              "    <tr>\n",
              "      <th>5554</th>\n",
              "      <td>Well keep in mind I've only got enough gas for...</td>\n",
              "      <td>0</td>\n",
              "    </tr>\n",
              "    <tr>\n",
              "      <th>5555</th>\n",
              "      <td>Yeh. Indians was nice. Tho it did kane me off ...</td>\n",
              "      <td>0</td>\n",
              "    </tr>\n",
              "    <tr>\n",
              "      <th>5556</th>\n",
              "      <td>Yes i have. So that's why u texted. Pshew...mi...</td>\n",
              "      <td>0</td>\n",
              "    </tr>\n",
              "    <tr>\n",
              "      <th>5557</th>\n",
              "      <td>No. I meant the calculation is the same. That ...</td>\n",
              "      <td>0</td>\n",
              "    </tr>\n",
              "    <tr>\n",
              "      <th>5558</th>\n",
              "      <td>Sorry I'll call later</td>\n",
              "      <td>0</td>\n",
              "    </tr>\n",
              "    <tr>\n",
              "      <th>5559</th>\n",
              "      <td>if you aren't here in the next  &amp;lt;#&amp;gt;  hou...</td>\n",
              "      <td>0</td>\n",
              "    </tr>\n",
              "    <tr>\n",
              "      <th>5560</th>\n",
              "      <td>Anything lor. Juz both of us lor.</td>\n",
              "      <td>0</td>\n",
              "    </tr>\n",
              "    <tr>\n",
              "      <th>5561</th>\n",
              "      <td>Get me out of this dump heap. My mom decided t...</td>\n",
              "      <td>0</td>\n",
              "    </tr>\n",
              "    <tr>\n",
              "      <th>5562</th>\n",
              "      <td>Ok lor... Sony ericsson salesman... I ask shuh...</td>\n",
              "      <td>0</td>\n",
              "    </tr>\n",
              "    <tr>\n",
              "      <th>5563</th>\n",
              "      <td>Ard 6 like dat lor.</td>\n",
              "      <td>0</td>\n",
              "    </tr>\n",
              "    <tr>\n",
              "      <th>5564</th>\n",
              "      <td>Why don't you wait 'til at least wednesday to ...</td>\n",
              "      <td>0</td>\n",
              "    </tr>\n",
              "    <tr>\n",
              "      <th>5565</th>\n",
              "      <td>Huh y lei...</td>\n",
              "      <td>0</td>\n",
              "    </tr>\n",
              "    <tr>\n",
              "      <th>5566</th>\n",
              "      <td>REMINDER FROM O2: To get 2.50 pounds free call...</td>\n",
              "      <td>1</td>\n",
              "    </tr>\n",
              "    <tr>\n",
              "      <th>5567</th>\n",
              "      <td>This is the 2nd time we have tried 2 contact u...</td>\n",
              "      <td>1</td>\n",
              "    </tr>\n",
              "    <tr>\n",
              "      <th>5568</th>\n",
              "      <td>Will ü b going to esplanade fr home?</td>\n",
              "      <td>0</td>\n",
              "    </tr>\n",
              "    <tr>\n",
              "      <th>5569</th>\n",
              "      <td>Pity * was in mood for that. So...any other su...</td>\n",
              "      <td>0</td>\n",
              "    </tr>\n",
              "    <tr>\n",
              "      <th>5570</th>\n",
              "      <td>The guy did some bitching but I acted like i'd...</td>\n",
              "      <td>0</td>\n",
              "    </tr>\n",
              "    <tr>\n",
              "      <th>5571</th>\n",
              "      <td>Rofl. Its true to its name</td>\n",
              "      <td>0</td>\n",
              "    </tr>\n",
              "  </tbody>\n",
              "</table>\n",
              "</div>\n",
              "      <button class=\"colab-df-convert\" onclick=\"convertToInteractive('df-027300e9-ca1a-4b10-9080-06b4ad07bc77')\"\n",
              "              title=\"Convert this dataframe to an interactive table.\"\n",
              "              style=\"display:none;\">\n",
              "        \n",
              "  <svg xmlns=\"http://www.w3.org/2000/svg\" height=\"24px\"viewBox=\"0 0 24 24\"\n",
              "       width=\"24px\">\n",
              "    <path d=\"M0 0h24v24H0V0z\" fill=\"none\"/>\n",
              "    <path d=\"M18.56 5.44l.94 2.06.94-2.06 2.06-.94-2.06-.94-.94-2.06-.94 2.06-2.06.94zm-11 1L8.5 8.5l.94-2.06 2.06-.94-2.06-.94L8.5 2.5l-.94 2.06-2.06.94zm10 10l.94 2.06.94-2.06 2.06-.94-2.06-.94-.94-2.06-.94 2.06-2.06.94z\"/><path d=\"M17.41 7.96l-1.37-1.37c-.4-.4-.92-.59-1.43-.59-.52 0-1.04.2-1.43.59L10.3 9.45l-7.72 7.72c-.78.78-.78 2.05 0 2.83L4 21.41c.39.39.9.59 1.41.59.51 0 1.02-.2 1.41-.59l7.78-7.78 2.81-2.81c.8-.78.8-2.07 0-2.86zM5.41 20L4 18.59l7.72-7.72 1.47 1.35L5.41 20z\"/>\n",
              "  </svg>\n",
              "      </button>\n",
              "      \n",
              "  <style>\n",
              "    .colab-df-container {\n",
              "      display:flex;\n",
              "      flex-wrap:wrap;\n",
              "      gap: 12px;\n",
              "    }\n",
              "\n",
              "    .colab-df-convert {\n",
              "      background-color: #E8F0FE;\n",
              "      border: none;\n",
              "      border-radius: 50%;\n",
              "      cursor: pointer;\n",
              "      display: none;\n",
              "      fill: #1967D2;\n",
              "      height: 32px;\n",
              "      padding: 0 0 0 0;\n",
              "      width: 32px;\n",
              "    }\n",
              "\n",
              "    .colab-df-convert:hover {\n",
              "      background-color: #E2EBFA;\n",
              "      box-shadow: 0px 1px 2px rgba(60, 64, 67, 0.3), 0px 1px 3px 1px rgba(60, 64, 67, 0.15);\n",
              "      fill: #174EA6;\n",
              "    }\n",
              "\n",
              "    [theme=dark] .colab-df-convert {\n",
              "      background-color: #3B4455;\n",
              "      fill: #D2E3FC;\n",
              "    }\n",
              "\n",
              "    [theme=dark] .colab-df-convert:hover {\n",
              "      background-color: #434B5C;\n",
              "      box-shadow: 0px 1px 3px 1px rgba(0, 0, 0, 0.15);\n",
              "      filter: drop-shadow(0px 1px 2px rgba(0, 0, 0, 0.3));\n",
              "      fill: #FFFFFF;\n",
              "    }\n",
              "  </style>\n",
              "\n",
              "      <script>\n",
              "        const buttonEl =\n",
              "          document.querySelector('#df-027300e9-ca1a-4b10-9080-06b4ad07bc77 button.colab-df-convert');\n",
              "        buttonEl.style.display =\n",
              "          google.colab.kernel.accessAllowed ? 'block' : 'none';\n",
              "\n",
              "        async function convertToInteractive(key) {\n",
              "          const element = document.querySelector('#df-027300e9-ca1a-4b10-9080-06b4ad07bc77');\n",
              "          const dataTable =\n",
              "            await google.colab.kernel.invokeFunction('convertToInteractive',\n",
              "                                                     [key], {});\n",
              "          if (!dataTable) return;\n",
              "\n",
              "          const docLinkHtml = 'Like what you see? Visit the ' +\n",
              "            '<a target=\"_blank\" href=https://colab.research.google.com/notebooks/data_table.ipynb>data table notebook</a>'\n",
              "            + ' to learn more about interactive tables.';\n",
              "          element.innerHTML = '';\n",
              "          dataTable['output_type'] = 'display_data';\n",
              "          await google.colab.output.renderOutput(dataTable, element);\n",
              "          const docLink = document.createElement('div');\n",
              "          docLink.innerHTML = docLinkHtml;\n",
              "          element.appendChild(docLink);\n",
              "        }\n",
              "      </script>\n",
              "    </div>\n",
              "  </div>\n",
              "  "
            ]
          },
          "metadata": {},
          "execution_count": 58
        }
      ],
      "source": [
        "le_category=LabelEncoder();\n",
        "df[\"CATEGORY\"]=le_category.fit_transform(df['Category']);\n",
        "\n",
        "df.drop('Category',axis=\"columns\" , inplace=True);\n",
        "target_df=df['CATEGORY'];\n",
        "\n"
      ]
    },
    {
      "cell_type": "code",
      "execution_count": 32,
      "metadata": {
        "id": "nLIdsHPIEpnW"
      },
      "outputs": [],
      "source": [
        "vectorizer=CountVectorizer();\n",
        "x_transform=vectorizer.fit_transform(df[\"Message\"]);\n",
        "message_array=x_transform.toarray();\n",
        "\n",
        "\n",
        "X_train,X_test,Y_train,Y_test=train_test_split(message_array,target_df,test_size=0.2,random_state=100)\n"
      ]
    },
    {
      "cell_type": "code",
      "execution_count": 35,
      "metadata": {
        "colab": {
          "base_uri": "https://localhost:8080/"
        },
        "id": "-Ca4PblJKlIo",
        "outputId": "6918a226-8548-42cb-c8ff-3f859bc42573"
      },
      "outputs": [
        {
          "output_type": "stream",
          "name": "stdout",
          "text": [
            "The accuracy of Gaussian NB is 91.29576453697057%\n"
          ]
        }
      ],
      "source": [
        "gaussianNB=BaggingClassifier(base_estimator=GaussianNB(),n_estimators=20,oob_score=True,random_state=1000);\n",
        "gaussianNB.fit(message_array,target_df)\n",
        "print(f\"The accuracy of Gaussian NB is {gaussianNB.oob_score_*100}%\")\n"
      ]
    },
    {
      "cell_type": "code",
      "execution_count": 36,
      "metadata": {
        "colab": {
          "base_uri": "https://localhost:8080/"
        },
        "id": "HAmXjxgTLHwD",
        "outputId": "2da3e1fb-b841-4fea-fc32-e6b5cec61ebf"
      },
      "outputs": [
        {
          "output_type": "stream",
          "name": "stdout",
          "text": [
            "The accuracy of Multinomial NB is 98.06173725771716%\n"
          ]
        }
      ],
      "source": [
        "multinomial_nb=BaggingClassifier(base_estimator=MultinomialNB(),n_estimators=20,oob_score=True,random_state=1000);\n",
        "multinomial_nb.fit(message_array,target_df)\n",
        "print(f\"The accuracy of Multinomial NB is {multinomial_nb.oob_score_*100}%\")"
      ]
    },
    {
      "cell_type": "code",
      "execution_count": 37,
      "metadata": {
        "colab": {
          "base_uri": "https://localhost:8080/"
        },
        "id": "hFf2hmL4MBQr",
        "outputId": "2be87719-d06a-4560-a5b7-505f0907025c"
      },
      "outputs": [
        {
          "output_type": "stream",
          "name": "stdout",
          "text": [
            "The score of random forest is 97.66816143497758%\n"
          ]
        }
      ],
      "source": [
        "randomforest=RandomForestClassifier(n_estimators=25);\n",
        "randomforest.fit(X_train,Y_train);\n",
        "print(f\"The score of random forest is {randomforest.score(X_test,Y_test)*100}%\")"
      ]
    },
    {
      "cell_type": "code",
      "execution_count": null,
      "metadata": {
        "colab": {
          "background_save": true
        },
        "id": "chltNE-FO3Bd",
        "outputId": "331c655e-f0f3-4633-b380-3be501c249cb"
      },
      "outputs": [
        {
          "name": "stdout",
          "output_type": "stream",
          "text": [
            "0.9840272792534099\n"
          ]
        },
        {
          "name": "stderr",
          "output_type": "stream",
          "text": [
            "/usr/local/lib/python3.7/dist-packages/sklearn/ensemble/_bagging.py:707: UserWarning: Some inputs do not have OOB scores. This probably means too few estimators were used to compute any reliable oob estimates.\n",
            "  \"Some inputs do not have OOB scores. \"\n",
            "/usr/local/lib/python3.7/dist-packages/sklearn/ensemble/_bagging.py:712: RuntimeWarning: invalid value encountered in true_divide\n",
            "  oob_decision_function = predictions / predictions.sum(axis=1)[:, np.newaxis]\n"
          ]
        }
      ],
      "source": [
        "svc_linear=BaggingClassifier(base_estimator=SVC(kernel=\"linear\",C=1),n_estimators=15,oob_score=True,random_state=1000);\n",
        "svc_linear.fit(message_array,target_df);\n",
        "print(svc_linear.oob_score_*100 + \"%\")"
      ]
    },
    {
      "cell_type": "code",
      "execution_count": 38,
      "metadata": {
        "colab": {
          "base_uri": "https://localhost:8080/"
        },
        "id": "sIdyT5bYPkW1",
        "outputId": "4b165b40-711f-41c6-ac2c-7eceaf5a456a"
      },
      "outputs": [
        {
          "output_type": "stream",
          "name": "stderr",
          "text": [
            "/usr/local/lib/python3.7/dist-packages/sklearn/ensemble/_bagging.py:707: UserWarning: Some inputs do not have OOB scores. This probably means too few estimators were used to compute any reliable oob estimates.\n",
            "  \"Some inputs do not have OOB scores. \"\n",
            "/usr/local/lib/python3.7/dist-packages/sklearn/ensemble/_bagging.py:712: RuntimeWarning: invalid value encountered in true_divide\n",
            "  oob_decision_function = predictions / predictions.sum(axis=1)[:, np.newaxis]\n"
          ]
        },
        {
          "output_type": "stream",
          "name": "stdout",
          "text": [
            "The accuracy of logistic regression is 98.20627802690582 %\n"
          ]
        }
      ],
      "source": [
        "logisticRegression=BaggingClassifier(base_estimator=LogisticRegression(),n_estimators=15,oob_score=True,random_state=1000);\n",
        "logisticRegression.fit(X_train,Y_train)\n",
        "print(f\"The accuracy of logistic regression is {logisticRegression.score(X_test,Y_test)*100} %\")"
      ]
    },
    {
      "cell_type": "code",
      "execution_count": 39,
      "metadata": {
        "colab": {
          "base_uri": "https://localhost:8080/"
        },
        "id": "xqLEtATxQK6H",
        "outputId": "a0540d83-2753-452a-ba04-81e003db4108"
      },
      "outputs": [
        {
          "output_type": "stream",
          "name": "stdout",
          "text": [
            "The accuracy of Decision Tree  is 97.9372197309417%\n"
          ]
        }
      ],
      "source": [
        "decisionTree=BaggingClassifier(base_estimator=DecisionTreeClassifier(),n_estimators=25,random_state=1000,);\n",
        "\n",
        "decisionTree.fit(X_train,Y_train)\n",
        "\n",
        "print(f\"The accuracy of Decision Tree  is {decisionTree.score(X_test,Y_test)*100}%\")"
      ]
    },
    {
      "cell_type": "markdown",
      "metadata": {
        "id": "MdxD9KwKCQtu"
      },
      "source": [
        "**Predicting few emails**"
      ]
    },
    {
      "cell_type": "code",
      "execution_count": 79,
      "metadata": {
        "colab": {
          "base_uri": "https://localhost:8080/"
        },
        "id": "KUuFYtIYQ0x1",
        "outputId": "3ea4bdf7-cd61-4374-b45f-d2e39c26b501"
      },
      "outputs": [
        {
          "output_type": "stream",
          "name": "stdout",
          "text": [
            "['Get 30 gb free internet to avail this offer contact the following numbers'] this email is clearly a spam email\n",
            "The prediction multinomial nb is [1]\n",
            "The prediction of Gaussian nb is [0]\n",
            "The prediction of svc_linear is [0]\n",
            "The prediction of Random Forest is [0]\n",
            "The prediction of Decision Tree is [0]\n",
            "The prediction of logistic regression is [0]\n",
            " \n",
            "0 is for ham email and 1 is for spam email \n",
            " \n",
            "\n",
            "Even though the accuracy of svc is better but still Multinomial NB is outperforming all the algorithms in our case Note:That i have tested all the algorithms with tons of examples before coming to this conclusion\n"
          ]
        }
      ],
      "source": [
        "emails=[\n",
        "'Get 30 gb free internet to avail this offer contact the following numbers'];\n",
        "email_array=vectorizer.transform(emails).toarray();\n",
        "\n",
        "print(f\"{emails} this email is clearly a spam email\")\n",
        "\n",
        "print(f\"The prediction multinomial nb is { multinomial_nb.predict(email_array)}\")\n",
        "print(f\"The prediction of Gaussian nb is {gaussianNB.predict(email_array)}\");\n",
        "print(f\"The prediction of svc_linear is {svc_linear.predict(email_array)}\");\n",
        "print(f\"The prediction of Random Forest is {randomforest.predict(email_array)}\")\n",
        "print(f\"The prediction of Decision Tree is {decisionTree.predict(email_array)}\");\n",
        "print(f\"The prediction of logistic regression is {logisticRegression.predict(email_array)}\",end=\"\\n \\n\")\n",
        "\n",
        "\n",
        "print(\"0 is for ham email and 1 is for spam email \\n \\n\")\n",
        "\n",
        "print(\"Even though the accuracy of svc is better but still Multinomial NB is outperforming all the algorithms in our case Note:That i have tested all the algorithms with tons of examples before coming to this conclusion\")\n"
      ]
    },
    {
      "cell_type": "code",
      "execution_count": 80,
      "metadata": {
        "id": "nw69sDIYD7Ut"
      },
      "outputs": [],
      "source": [
        "with open(\"Spam_Classifier\",\"wb\") as fb:\n",
        "  pickle.dump(multinomial_nb,fb)\n"
      ]
    },
    {
      "cell_type": "code",
      "execution_count": null,
      "metadata": {
        "id": "WanCXNDGNDPk"
      },
      "outputs": [],
      "source": [
        ""
      ]
    }
  ],
  "metadata": {
    "accelerator": "GPU",
    "colab": {
      "collapsed_sections": [],
      "name": "SpamClassification.ipynb",
      "provenance": [],
      "authorship_tag": "ABX9TyNI3NTvP9OPCYJbhWnHnz7r",
      "include_colab_link": true
    },
    "gpuClass": "standard",
    "kernelspec": {
      "display_name": "Python 3",
      "name": "python3"
    },
    "language_info": {
      "name": "python"
    }
  },
  "nbformat": 4,
  "nbformat_minor": 0
}