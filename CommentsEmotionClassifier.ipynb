{
  "nbformat": 4,
  "nbformat_minor": 0,
  "metadata": {
    "colab": {
      "provenance": [],
      "collapsed_sections": [],
      "authorship_tag": "ABX9TyMGahPKapKl/wrxdiaJQ0AJ",
      "include_colab_link": true
    },
    "kernelspec": {
      "name": "python3",
      "display_name": "Python 3"
    },
    "language_info": {
      "name": "python"
    }
  },
  "cells": [
    {
      "cell_type": "markdown",
      "metadata": {
        "id": "view-in-github",
        "colab_type": "text"
      },
      "source": [
        "<a href=\"https://colab.research.google.com/github/Darshan-Thakar/Darshan-Thakar/blob/main/CommentsEmotionClassifier.ipynb\" target=\"_parent\"><img src=\"https://colab.research.google.com/assets/colab-badge.svg\" alt=\"Open In Colab\"/></a>"
      ]
    },
    {
      "cell_type": "code",
      "execution_count": null,
      "metadata": {
        "id": "m3UYYuj0daml"
      },
      "outputs": [],
      "source": [
        "#Importing the required modules\n",
        "\n",
        "import pandas as pd;\n",
        "import numpy as np ;\n",
        "import seaborn as sns\n",
        "\n",
        "from sklearn.feature_extraction.text import CountVectorizer;\n",
        "from sklearn.feature_extraction.text import TfidfVectorizer;\n",
        "from sklearn.ensemble import RandomForestClassifier\n",
        "from sklearn.naive_bayes import MultinomialNB;\n",
        "from sklearn.svm import SVC;\n",
        "from sklearn.neighbors import KNeighborsClassifier\n",
        "from sklearn.tree import DecisionTreeClassifier;\n",
        "from sklearn.model_selection import train_test_split;\n",
        "from sklearn.metrics import confusion_matrix ;\n",
        "from sklearn.metrics import classification_report\n",
        "import spacy\n",
        "from sklearn.ensemble import BaggingClassifier;\n",
        "from sklearn.pipeline import Pipeline"
      ]
    },
    {
      "cell_type": "markdown",
      "source": [
        "**In this notebook we will try out different classification algorithms to classify comments into their respective emotions . In this commit I will try few algos and text representation techniques such as bag of words , bag of n_grams and TF-Idf. This text representation techniques do not capture the relationship between the words. In the next commit I will use different word embedding techniques as well as BERT for text representation**"
      ],
      "metadata": {
        "id": "PNOINmoJgZog"
      }
    },
    {
      "cell_type": "code",
      "source": [
        "# Let's load the data \n",
        "df=pd.read_csv(\"https://raw.githubusercontent.com/codebasics/nlp-tutorials/main/12_tf_idf/Emotion_classify_Data.csv\");\n",
        "\n",
        "# I dont want to download the dataset from kaggle so i will load it using raw github csv uploaded on codebasics github page\n",
        "\n",
        "df.head(5)"
      ],
      "metadata": {
        "colab": {
          "base_uri": "https://localhost:8080/",
          "height": 206
        },
        "id": "lrGblwQ2eumL",
        "outputId": "92dcefe6-5fbb-48f3-b800-35d807917cc5"
      },
      "execution_count": null,
      "outputs": [
        {
          "output_type": "execute_result",
          "data": {
            "text/plain": [
              "                                             Comment Emotion\n",
              "0  i seriously hate one subject to death but now ...    fear\n",
              "1                 im so full of life i feel appalled   anger\n",
              "2  i sit here to write i start to dig out my feel...    fear\n",
              "3  ive been really angry with r and i feel like a...     joy\n",
              "4  i feel suspicious if there is no one outside l...    fear"
            ],
            "text/html": [
              "\n",
              "  <div id=\"df-ce6a16f4-6e35-4597-9e7d-e2aea45e6fdd\">\n",
              "    <div class=\"colab-df-container\">\n",
              "      <div>\n",
              "<style scoped>\n",
              "    .dataframe tbody tr th:only-of-type {\n",
              "        vertical-align: middle;\n",
              "    }\n",
              "\n",
              "    .dataframe tbody tr th {\n",
              "        vertical-align: top;\n",
              "    }\n",
              "\n",
              "    .dataframe thead th {\n",
              "        text-align: right;\n",
              "    }\n",
              "</style>\n",
              "<table border=\"1\" class=\"dataframe\">\n",
              "  <thead>\n",
              "    <tr style=\"text-align: right;\">\n",
              "      <th></th>\n",
              "      <th>Comment</th>\n",
              "      <th>Emotion</th>\n",
              "    </tr>\n",
              "  </thead>\n",
              "  <tbody>\n",
              "    <tr>\n",
              "      <th>0</th>\n",
              "      <td>i seriously hate one subject to death but now ...</td>\n",
              "      <td>fear</td>\n",
              "    </tr>\n",
              "    <tr>\n",
              "      <th>1</th>\n",
              "      <td>im so full of life i feel appalled</td>\n",
              "      <td>anger</td>\n",
              "    </tr>\n",
              "    <tr>\n",
              "      <th>2</th>\n",
              "      <td>i sit here to write i start to dig out my feel...</td>\n",
              "      <td>fear</td>\n",
              "    </tr>\n",
              "    <tr>\n",
              "      <th>3</th>\n",
              "      <td>ive been really angry with r and i feel like a...</td>\n",
              "      <td>joy</td>\n",
              "    </tr>\n",
              "    <tr>\n",
              "      <th>4</th>\n",
              "      <td>i feel suspicious if there is no one outside l...</td>\n",
              "      <td>fear</td>\n",
              "    </tr>\n",
              "  </tbody>\n",
              "</table>\n",
              "</div>\n",
              "      <button class=\"colab-df-convert\" onclick=\"convertToInteractive('df-ce6a16f4-6e35-4597-9e7d-e2aea45e6fdd')\"\n",
              "              title=\"Convert this dataframe to an interactive table.\"\n",
              "              style=\"display:none;\">\n",
              "        \n",
              "  <svg xmlns=\"http://www.w3.org/2000/svg\" height=\"24px\"viewBox=\"0 0 24 24\"\n",
              "       width=\"24px\">\n",
              "    <path d=\"M0 0h24v24H0V0z\" fill=\"none\"/>\n",
              "    <path d=\"M18.56 5.44l.94 2.06.94-2.06 2.06-.94-2.06-.94-.94-2.06-.94 2.06-2.06.94zm-11 1L8.5 8.5l.94-2.06 2.06-.94-2.06-.94L8.5 2.5l-.94 2.06-2.06.94zm10 10l.94 2.06.94-2.06 2.06-.94-2.06-.94-.94-2.06-.94 2.06-2.06.94z\"/><path d=\"M17.41 7.96l-1.37-1.37c-.4-.4-.92-.59-1.43-.59-.52 0-1.04.2-1.43.59L10.3 9.45l-7.72 7.72c-.78.78-.78 2.05 0 2.83L4 21.41c.39.39.9.59 1.41.59.51 0 1.02-.2 1.41-.59l7.78-7.78 2.81-2.81c.8-.78.8-2.07 0-2.86zM5.41 20L4 18.59l7.72-7.72 1.47 1.35L5.41 20z\"/>\n",
              "  </svg>\n",
              "      </button>\n",
              "      \n",
              "  <style>\n",
              "    .colab-df-container {\n",
              "      display:flex;\n",
              "      flex-wrap:wrap;\n",
              "      gap: 12px;\n",
              "    }\n",
              "\n",
              "    .colab-df-convert {\n",
              "      background-color: #E8F0FE;\n",
              "      border: none;\n",
              "      border-radius: 50%;\n",
              "      cursor: pointer;\n",
              "      display: none;\n",
              "      fill: #1967D2;\n",
              "      height: 32px;\n",
              "      padding: 0 0 0 0;\n",
              "      width: 32px;\n",
              "    }\n",
              "\n",
              "    .colab-df-convert:hover {\n",
              "      background-color: #E2EBFA;\n",
              "      box-shadow: 0px 1px 2px rgba(60, 64, 67, 0.3), 0px 1px 3px 1px rgba(60, 64, 67, 0.15);\n",
              "      fill: #174EA6;\n",
              "    }\n",
              "\n",
              "    [theme=dark] .colab-df-convert {\n",
              "      background-color: #3B4455;\n",
              "      fill: #D2E3FC;\n",
              "    }\n",
              "\n",
              "    [theme=dark] .colab-df-convert:hover {\n",
              "      background-color: #434B5C;\n",
              "      box-shadow: 0px 1px 3px 1px rgba(0, 0, 0, 0.15);\n",
              "      filter: drop-shadow(0px 1px 2px rgba(0, 0, 0, 0.3));\n",
              "      fill: #FFFFFF;\n",
              "    }\n",
              "  </style>\n",
              "\n",
              "      <script>\n",
              "        const buttonEl =\n",
              "          document.querySelector('#df-ce6a16f4-6e35-4597-9e7d-e2aea45e6fdd button.colab-df-convert');\n",
              "        buttonEl.style.display =\n",
              "          google.colab.kernel.accessAllowed ? 'block' : 'none';\n",
              "\n",
              "        async function convertToInteractive(key) {\n",
              "          const element = document.querySelector('#df-ce6a16f4-6e35-4597-9e7d-e2aea45e6fdd');\n",
              "          const dataTable =\n",
              "            await google.colab.kernel.invokeFunction('convertToInteractive',\n",
              "                                                     [key], {});\n",
              "          if (!dataTable) return;\n",
              "\n",
              "          const docLinkHtml = 'Like what you see? Visit the ' +\n",
              "            '<a target=\"_blank\" href=https://colab.research.google.com/notebooks/data_table.ipynb>data table notebook</a>'\n",
              "            + ' to learn more about interactive tables.';\n",
              "          element.innerHTML = '';\n",
              "          dataTable['output_type'] = 'display_data';\n",
              "          await google.colab.output.renderOutput(dataTable, element);\n",
              "          const docLink = document.createElement('div');\n",
              "          docLink.innerHTML = docLinkHtml;\n",
              "          element.appendChild(docLink);\n",
              "        }\n",
              "      </script>\n",
              "    </div>\n",
              "  </div>\n",
              "  "
            ]
          },
          "metadata": {},
          "execution_count": 141
        }
      ]
    },
    {
      "cell_type": "code",
      "source": [
        "df.shape"
      ],
      "metadata": {
        "colab": {
          "base_uri": "https://localhost:8080/"
        },
        "id": "e9T1cR8mh2tA",
        "outputId": "ea096844-f69b-4829-a56c-6cc390062b41"
      },
      "execution_count": null,
      "outputs": [
        {
          "output_type": "execute_result",
          "data": {
            "text/plain": [
              "(5937, 2)"
            ]
          },
          "metadata": {},
          "execution_count": 142
        }
      ]
    },
    {
      "cell_type": "code",
      "source": [
        "# The data set has 5937 rows and 2 columns\n",
        "\n",
        "# let's check if there is any imbalance in the dataset\n",
        "\n",
        "print(df.Emotion.value_counts());"
      ],
      "metadata": {
        "colab": {
          "base_uri": "https://localhost:8080/"
        },
        "id": "qylqjd5GiAvp",
        "outputId": "aa2fdfff-7050-4655-cf02-6bc3083c0119"
      },
      "execution_count": null,
      "outputs": [
        {
          "output_type": "stream",
          "name": "stdout",
          "text": [
            "anger    2000\n",
            "joy      2000\n",
            "fear     1937\n",
            "Name: Emotion, dtype: int64\n"
          ]
        }
      ]
    },
    {
      "cell_type": "markdown",
      "source": [
        "**The dataset is balanced so we don't need to apply the techniques to handle imbalanced. So, let's move on converting the labels of the dataset to numerical values**"
      ],
      "metadata": {
        "id": "ov8KCXU3ilra"
      }
    },
    {
      "cell_type": "code",
      "source": [
        "df['Emotion']=df['Emotion'].map({\n",
        "    'anger':0,\n",
        "    'joy':1,\n",
        "    'fear':2\n",
        "    \n",
        "})\n",
        "\n",
        "df.head(5)"
      ],
      "metadata": {
        "colab": {
          "base_uri": "https://localhost:8080/",
          "height": 206
        },
        "id": "UiEXhDPriSHw",
        "outputId": "f9f0e3fd-23e2-477e-b89c-90dfa3299dbc"
      },
      "execution_count": null,
      "outputs": [
        {
          "output_type": "execute_result",
          "data": {
            "text/plain": [
              "                                             Comment  Emotion\n",
              "0  i seriously hate one subject to death but now ...        2\n",
              "1                 im so full of life i feel appalled        0\n",
              "2  i sit here to write i start to dig out my feel...        2\n",
              "3  ive been really angry with r and i feel like a...        1\n",
              "4  i feel suspicious if there is no one outside l...        2"
            ],
            "text/html": [
              "\n",
              "  <div id=\"df-6473d01c-06a7-4190-ba27-acbe67df7ce2\">\n",
              "    <div class=\"colab-df-container\">\n",
              "      <div>\n",
              "<style scoped>\n",
              "    .dataframe tbody tr th:only-of-type {\n",
              "        vertical-align: middle;\n",
              "    }\n",
              "\n",
              "    .dataframe tbody tr th {\n",
              "        vertical-align: top;\n",
              "    }\n",
              "\n",
              "    .dataframe thead th {\n",
              "        text-align: right;\n",
              "    }\n",
              "</style>\n",
              "<table border=\"1\" class=\"dataframe\">\n",
              "  <thead>\n",
              "    <tr style=\"text-align: right;\">\n",
              "      <th></th>\n",
              "      <th>Comment</th>\n",
              "      <th>Emotion</th>\n",
              "    </tr>\n",
              "  </thead>\n",
              "  <tbody>\n",
              "    <tr>\n",
              "      <th>0</th>\n",
              "      <td>i seriously hate one subject to death but now ...</td>\n",
              "      <td>2</td>\n",
              "    </tr>\n",
              "    <tr>\n",
              "      <th>1</th>\n",
              "      <td>im so full of life i feel appalled</td>\n",
              "      <td>0</td>\n",
              "    </tr>\n",
              "    <tr>\n",
              "      <th>2</th>\n",
              "      <td>i sit here to write i start to dig out my feel...</td>\n",
              "      <td>2</td>\n",
              "    </tr>\n",
              "    <tr>\n",
              "      <th>3</th>\n",
              "      <td>ive been really angry with r and i feel like a...</td>\n",
              "      <td>1</td>\n",
              "    </tr>\n",
              "    <tr>\n",
              "      <th>4</th>\n",
              "      <td>i feel suspicious if there is no one outside l...</td>\n",
              "      <td>2</td>\n",
              "    </tr>\n",
              "  </tbody>\n",
              "</table>\n",
              "</div>\n",
              "      <button class=\"colab-df-convert\" onclick=\"convertToInteractive('df-6473d01c-06a7-4190-ba27-acbe67df7ce2')\"\n",
              "              title=\"Convert this dataframe to an interactive table.\"\n",
              "              style=\"display:none;\">\n",
              "        \n",
              "  <svg xmlns=\"http://www.w3.org/2000/svg\" height=\"24px\"viewBox=\"0 0 24 24\"\n",
              "       width=\"24px\">\n",
              "    <path d=\"M0 0h24v24H0V0z\" fill=\"none\"/>\n",
              "    <path d=\"M18.56 5.44l.94 2.06.94-2.06 2.06-.94-2.06-.94-.94-2.06-.94 2.06-2.06.94zm-11 1L8.5 8.5l.94-2.06 2.06-.94-2.06-.94L8.5 2.5l-.94 2.06-2.06.94zm10 10l.94 2.06.94-2.06 2.06-.94-2.06-.94-.94-2.06-.94 2.06-2.06.94z\"/><path d=\"M17.41 7.96l-1.37-1.37c-.4-.4-.92-.59-1.43-.59-.52 0-1.04.2-1.43.59L10.3 9.45l-7.72 7.72c-.78.78-.78 2.05 0 2.83L4 21.41c.39.39.9.59 1.41.59.51 0 1.02-.2 1.41-.59l7.78-7.78 2.81-2.81c.8-.78.8-2.07 0-2.86zM5.41 20L4 18.59l7.72-7.72 1.47 1.35L5.41 20z\"/>\n",
              "  </svg>\n",
              "      </button>\n",
              "      \n",
              "  <style>\n",
              "    .colab-df-container {\n",
              "      display:flex;\n",
              "      flex-wrap:wrap;\n",
              "      gap: 12px;\n",
              "    }\n",
              "\n",
              "    .colab-df-convert {\n",
              "      background-color: #E8F0FE;\n",
              "      border: none;\n",
              "      border-radius: 50%;\n",
              "      cursor: pointer;\n",
              "      display: none;\n",
              "      fill: #1967D2;\n",
              "      height: 32px;\n",
              "      padding: 0 0 0 0;\n",
              "      width: 32px;\n",
              "    }\n",
              "\n",
              "    .colab-df-convert:hover {\n",
              "      background-color: #E2EBFA;\n",
              "      box-shadow: 0px 1px 2px rgba(60, 64, 67, 0.3), 0px 1px 3px 1px rgba(60, 64, 67, 0.15);\n",
              "      fill: #174EA6;\n",
              "    }\n",
              "\n",
              "    [theme=dark] .colab-df-convert {\n",
              "      background-color: #3B4455;\n",
              "      fill: #D2E3FC;\n",
              "    }\n",
              "\n",
              "    [theme=dark] .colab-df-convert:hover {\n",
              "      background-color: #434B5C;\n",
              "      box-shadow: 0px 1px 3px 1px rgba(0, 0, 0, 0.15);\n",
              "      filter: drop-shadow(0px 1px 2px rgba(0, 0, 0, 0.3));\n",
              "      fill: #FFFFFF;\n",
              "    }\n",
              "  </style>\n",
              "\n",
              "      <script>\n",
              "        const buttonEl =\n",
              "          document.querySelector('#df-6473d01c-06a7-4190-ba27-acbe67df7ce2 button.colab-df-convert');\n",
              "        buttonEl.style.display =\n",
              "          google.colab.kernel.accessAllowed ? 'block' : 'none';\n",
              "\n",
              "        async function convertToInteractive(key) {\n",
              "          const element = document.querySelector('#df-6473d01c-06a7-4190-ba27-acbe67df7ce2');\n",
              "          const dataTable =\n",
              "            await google.colab.kernel.invokeFunction('convertToInteractive',\n",
              "                                                     [key], {});\n",
              "          if (!dataTable) return;\n",
              "\n",
              "          const docLinkHtml = 'Like what you see? Visit the ' +\n",
              "            '<a target=\"_blank\" href=https://colab.research.google.com/notebooks/data_table.ipynb>data table notebook</a>'\n",
              "            + ' to learn more about interactive tables.';\n",
              "          element.innerHTML = '';\n",
              "          dataTable['output_type'] = 'display_data';\n",
              "          await google.colab.output.renderOutput(dataTable, element);\n",
              "          const docLink = document.createElement('div');\n",
              "          docLink.innerHTML = docLinkHtml;\n",
              "          element.appendChild(docLink);\n",
              "        }\n",
              "      </script>\n",
              "    </div>\n",
              "  </div>\n",
              "  "
            ]
          },
          "metadata": {},
          "execution_count": 144
        }
      ]
    },
    {
      "cell_type": "markdown",
      "source": [
        "**We have finally converted the labels into numerical values . Let's preprocess the text we will remove punctuations and derive the word into it's base form by applying Lemmatization**"
      ],
      "metadata": {
        "id": "UzRHxi3GjnkV"
      }
    },
    {
      "cell_type": "code",
      "source": [
        "nlp=spacy.load(\"en_core_web_sm\");\n",
        "def preprocess(text):\n",
        "  doc=nlp(text);\n",
        "  filtered_tokens=[token.lemma_ for token in doc if not token.is_punct and not token.is_stop ];\n",
        "  return \" \".join(filtered_tokens);"
      ],
      "metadata": {
        "id": "k2fBahfYjUMc"
      },
      "execution_count": null,
      "outputs": []
    },
    {
      "cell_type": "markdown",
      "source": [
        "**We will apply to our pandas Comment column and will create a new column called preprocesse_comments**"
      ],
      "metadata": {
        "id": "JySZW5XUkZPM"
      }
    },
    {
      "cell_type": "code",
      "source": [
        "df['preprocessed_comments']=df.Comment.apply(preprocess);"
      ],
      "metadata": {
        "id": "XnP4fdVxjh6A"
      },
      "execution_count": null,
      "outputs": []
    },
    {
      "cell_type": "code",
      "source": [
        "X_train,X_test,Y_train,Y_test=train_test_split(df.preprocessed_comments,df.Emotion,test_size=0.2,random_state=2022);"
      ],
      "metadata": {
        "id": "HvqB4ZhcWkWq"
      },
      "execution_count": null,
      "outputs": []
    },
    {
      "cell_type": "markdown",
      "source": [
        "**Building sklearn pipleline and using tfidf as a text representation**"
      ],
      "metadata": {
        "id": "WyjE4R7IVFxk"
      }
    },
    {
      "cell_type": "code",
      "source": [
        "multinomial_nb=Pipeline([\n",
        "    ('vectorizer',TfidfVectorizer()),\n",
        "    ('model',MultinomialNB())\n",
        "])"
      ],
      "metadata": {
        "id": "JeFpwxLolMGc"
      },
      "execution_count": null,
      "outputs": []
    },
    {
      "cell_type": "code",
      "source": [
        "\n",
        "multinomial_nb.fit(X_train,Y_train);\n",
        "y_pred_multinomial_nb=multinomial_nb.predict(X_test);\n",
        "report_multinomial=classification_report(Y_test,y_pred_multinomial_nb);\n",
        "print(report_multinomial)"
      ],
      "metadata": {
        "colab": {
          "base_uri": "https://localhost:8080/"
        },
        "id": "CVnTfdAMWV9I",
        "outputId": "bd9526d6-b340-4857-d26d-23952d90d46d"
      },
      "execution_count": null,
      "outputs": [
        {
          "output_type": "stream",
          "name": "stdout",
          "text": [
            "              precision    recall  f1-score   support\n",
            "\n",
            "           0       0.91      0.89      0.90       407\n",
            "           1       0.93      0.91      0.92       400\n",
            "           2       0.89      0.93      0.91       381\n",
            "\n",
            "    accuracy                           0.91      1188\n",
            "   macro avg       0.91      0.91      0.91      1188\n",
            "weighted avg       0.91      0.91      0.91      1188\n",
            "\n"
          ]
        }
      ]
    },
    {
      "cell_type": "code",
      "source": [
        "corpus=[\n",
        "    'I am frightened a lot what will happen tomorrow i have not completed the assignment . Miss.polly will eat me alive',\n",
        "    'I have spent a lovely 4 weeks of holiday in switzerland . Definitely the best weeks of my life',\n",
        "    'I am too much frustrated to have your stupid service',\n",
        "    'I have hatred for him for his past behaviour with me i hope he dies soon.I get furious when i hear his name',\n",
        "     'I got my delivery after five weeks the service offered was the most terrible service i have ever seen in my entire life',\n",
        "     'I am delighted to have your superior service thank you ',\n",
        "     \n",
        "];\n",
        "\n",
        "\n",
        "predictions=[];\n",
        "for i in multinomial_nb.predict(corpus):\n",
        "  if(i==0):\n",
        "    predictions.append('Anger');\n",
        "  elif i==1:\n",
        "    predictions.append('Joy');\n",
        "  else:\n",
        "    predictions.append('Fear')    \n",
        "\n",
        "\n",
        "print(predictions)"
      ],
      "metadata": {
        "colab": {
          "base_uri": "https://localhost:8080/"
        },
        "id": "HSyQfJGlmw-O",
        "outputId": "3913b8b5-bc34-436c-ad0e-f118e6938963"
      },
      "execution_count": null,
      "outputs": [
        {
          "output_type": "stream",
          "name": "stdout",
          "text": [
            "['Fear', 'Joy', 'Anger', 'Anger', 'Anger', 'Joy']\n"
          ]
        }
      ]
    },
    {
      "cell_type": "code",
      "source": [],
      "metadata": {
        "id": "31oe62EFmw7u"
      },
      "execution_count": null,
      "outputs": []
    },
    {
      "cell_type": "code",
      "source": [
        "random_forest=Pipeline([\n",
        "    ('vectorizer',TfidfVectorizer()),\n",
        "    ('model',RandomForestClassifier(n_estimators=25,criterion='gini'))\n",
        "        \n",
        "    \n",
        "]);\n",
        "random_forest.fit(X_train,Y_train);\n",
        "y_pred_forest=random_forest.predict(X_test);\n",
        "classificaton_report_forest=classification_report(Y_test,y_pred_forest);\n",
        "print(classificaton_report_forest);\n"
      ],
      "metadata": {
        "colab": {
          "base_uri": "https://localhost:8080/"
        },
        "id": "LbTSEL4rXKHD",
        "outputId": "fca12a5f-2848-461b-8d43-f15dfd6960f8"
      },
      "execution_count": null,
      "outputs": [
        {
          "output_type": "stream",
          "name": "stdout",
          "text": [
            "              precision    recall  f1-score   support\n",
            "\n",
            "           0       0.93      0.91      0.92       407\n",
            "           1       0.91      0.94      0.93       400\n",
            "           2       0.94      0.92      0.93       381\n",
            "\n",
            "    accuracy                           0.93      1188\n",
            "   macro avg       0.93      0.93      0.93      1188\n",
            "weighted avg       0.93      0.93      0.93      1188\n",
            "\n"
          ]
        }
      ]
    },
    {
      "cell_type": "code",
      "source": [
        "corpus=[\n",
        "    'I am frightened a lot what will happen tomorrow i have not completed the assignment . Miss.polly will eat me alive',\n",
        "    'I have spent a lovely 4 weeks of holiday in switzerland . Definitely the best weeks of my life',\n",
        "    'I am too much frustrated to have your stupid service',\n",
        "    'I have hatred for him for his past behaviour with me i hope he dies soon.I get furious when i hear his name',\n",
        "     'I got my delivery after five weeks the service offered was the most terrible service i have ever seen in my entire life',\n",
        "     'I am delighted to have your superior service thank you ',\n",
        "     \n",
        "];\n",
        "\n",
        "\n",
        "predictions=[];\n",
        "for i in random_forest.predict(corpus):\n",
        "  if(i==0):\n",
        "    predictions.append('Anger');\n",
        "  elif i==1:\n",
        "    predictions.append('Joy');\n",
        "  else:\n",
        "    predictions.append('Fear')    \n",
        "\n",
        "\n",
        "print(predictions)"
      ],
      "metadata": {
        "colab": {
          "base_uri": "https://localhost:8080/"
        },
        "id": "zp9tYVR7mkxq",
        "outputId": "c3b4ef3a-fadf-49ad-ba40-d710c6d82457"
      },
      "execution_count": null,
      "outputs": [
        {
          "output_type": "stream",
          "name": "stdout",
          "text": [
            "['Fear', 'Anger', 'Anger', 'Anger', 'Anger', 'Joy']\n"
          ]
        }
      ]
    },
    {
      "cell_type": "markdown",
      "source": [
        "**As we can see in terms of both precision ,recall and f1-score random forest performs better than multinomial naive_bayes**"
      ],
      "metadata": {
        "id": "sH-bB-86Zq37"
      }
    },
    {
      "cell_type": "markdown",
      "source": [
        "***Now let's try SVM(support vector machines) and see how it performs***"
      ],
      "metadata": {
        "id": "J13Nbl2XavQi"
      }
    },
    {
      "cell_type": "code",
      "source": [
        "svm=Pipeline([\n",
        "    ('vectorizer',TfidfVectorizer()),\n",
        "    ('model',SVC(kernel='linear',C=0.9))\n",
        "]);"
      ],
      "metadata": {
        "id": "NVzluorXZpsq"
      },
      "execution_count": null,
      "outputs": []
    },
    {
      "cell_type": "code",
      "source": [
        "svm.fit(X_train,Y_train);\n",
        "y_pred_svm=svm.predict(X_test);\n",
        "report_svm=classification_report(Y_test,y_pred_svm);\n",
        "print(report_svm);"
      ],
      "metadata": {
        "colab": {
          "base_uri": "https://localhost:8080/"
        },
        "id": "H0qUp06sZHh1",
        "outputId": "ab89e29e-4c70-43ec-969d-6a96d756ea0d"
      },
      "execution_count": null,
      "outputs": [
        {
          "output_type": "stream",
          "name": "stdout",
          "text": [
            "              precision    recall  f1-score   support\n",
            "\n",
            "           0       0.93      0.93      0.93       407\n",
            "           1       0.93      0.95      0.94       400\n",
            "           2       0.94      0.93      0.93       381\n",
            "\n",
            "    accuracy                           0.94      1188\n",
            "   macro avg       0.94      0.94      0.94      1188\n",
            "weighted avg       0.94      0.94      0.94      1188\n",
            "\n"
          ]
        }
      ]
    },
    {
      "cell_type": "code",
      "source": [
        "corpus=[\n",
        "    'I am frightened a lot what will happen tomorrow i have not completed the assignment . Miss.polly will eat me alive',\n",
        "    'I have spent a lovely 4 weeks of holiday in switzerland . Definitely the best weeks of my life',\n",
        "    'I am too much frustrated to have your stupid service',\n",
        "    'I have hatred for him for his past behaviour with me i hope he dies soon.I get furious when i hear his name',\n",
        "     'I got my delivery after five weeks the service offered was the most terrible service i have ever seen in my entire life',\n",
        "     'I am delighted to have your superior service thank you ',\n",
        "     \n",
        "];\n",
        "\n",
        "\n",
        "predictions=[];\n",
        "for i in svm.predict(corpus):\n",
        "  if(i==0):\n",
        "    predictions.append('Anger');\n",
        "  elif i==1:\n",
        "    predictions.append('Joy');\n",
        "  else:\n",
        "    predictions.append('Fear')    \n",
        "\n",
        "\n",
        "print(predictions)"
      ],
      "metadata": {
        "colab": {
          "base_uri": "https://localhost:8080/"
        },
        "id": "ZrpzEzSfbq-z",
        "outputId": "3bb8ea1a-7985-487a-c953-b15529338782"
      },
      "execution_count": null,
      "outputs": [
        {
          "output_type": "stream",
          "name": "stdout",
          "text": [
            "['Fear', 'Joy', 'Anger', 'Anger', 'Anger', 'Joy']\n"
          ]
        }
      ]
    },
    {
      "cell_type": "code",
      "source": [
        "decisionTree=Pipeline([\n",
        "    ('vectorizer',TfidfVectorizer()),\n",
        "    ('model',BaggingClassifier(base_estimator=DecisionTreeClassifier(),n_estimators=25,random_state=2022))\n",
        "])"
      ],
      "metadata": {
        "id": "PFcdrkeccCRG"
      },
      "execution_count": null,
      "outputs": []
    },
    {
      "cell_type": "code",
      "source": [
        "decisionTree.fit(X_train,Y_train);\n",
        "y_pred=decisionTree.predict(X_test);\n",
        "report_decisionTree=classification_report(Y_test,y_pred);\n",
        "print(report_decisionTree)"
      ],
      "metadata": {
        "colab": {
          "base_uri": "https://localhost:8080/"
        },
        "id": "5Qk_ne6gjn8h",
        "outputId": "e5bdc6e7-a5d9-481f-a9a8-2157395cf926"
      },
      "execution_count": null,
      "outputs": [
        {
          "output_type": "stream",
          "name": "stdout",
          "text": [
            "              precision    recall  f1-score   support\n",
            "\n",
            "           0       0.94      0.92      0.93       407\n",
            "           1       0.94      0.95      0.95       400\n",
            "           2       0.94      0.94      0.94       381\n",
            "\n",
            "    accuracy                           0.94      1188\n",
            "   macro avg       0.94      0.94      0.94      1188\n",
            "weighted avg       0.94      0.94      0.94      1188\n",
            "\n"
          ]
        }
      ]
    },
    {
      "cell_type": "code",
      "source": [
        "corpus=[\n",
        "    'I am frightened a lot what will happen tomorrow i have not completed the assignment . Miss.polly will eat me alive',\n",
        "    'I have spent a lovely 4 weeks holiday in switzerland . Definitely the best weeks of my life',\n",
        "    'I am too much frustrated to have your stupid service',\n",
        "    'I  have hatred for him for his past behaviour with me i hope he dies soon.I get furious when i hear his name',\n",
        "    'I got my delivery after five weeks the service offered was the most terrible service i have ever seen in my entire life',\n",
        "    'I am delighted to have your superior service thank you ',\n",
        "   \n",
        "];\n",
        "\n",
        "\n",
        "predictions=[];\n",
        "for i in decisionTree.predict(corpus):\n",
        "  if(i==0):\n",
        "    predictions.append('Anger');\n",
        "  elif i==1:\n",
        "    predictions.append('Joy');\n",
        "  else:\n",
        "    predictions.append('Fear')    \n",
        "\n",
        "\n",
        "print(predictions)"
      ],
      "metadata": {
        "colab": {
          "base_uri": "https://localhost:8080/"
        },
        "id": "eJfzZ9lHj9RZ",
        "outputId": "0fe78fad-d9c4-4a8f-e7bf-2ffc769e75bb"
      },
      "execution_count": null,
      "outputs": [
        {
          "output_type": "stream",
          "name": "stdout",
          "text": [
            "['Fear', 'Anger', 'Anger', 'Anger', 'Anger', 'Anger']\n"
          ]
        }
      ]
    },
    {
      "cell_type": "markdown",
      "source": [
        "**Till now our SVM models performs the best of all the models Note:- I have not tried out many different parameters . But you can use different hyperparameter tuning techniques such randomizedSearchCV, GridSearchCV to find the best parameters**"
      ],
      "metadata": {
        "id": "e7sKQE3Yl5ki"
      }
    },
    {
      "cell_type": "markdown",
      "source": [
        "**Let's have a look at the confusion matrix of our svm model**\n",
        "\n",
        "\n"
      ],
      "metadata": {
        "id": "5RGBxL78r61b"
      }
    },
    {
      "cell_type": "code",
      "source": [
        "cm=confusion_matrix(Y_test,y_pred_svm);\n",
        "\n",
        "sns.heatmap(cm, annot=True)"
      ],
      "metadata": {
        "colab": {
          "base_uri": "https://localhost:8080/",
          "height": 282
        },
        "id": "OJcEGHP_kTd6",
        "outputId": "5457fdc3-98ed-48b0-ab53-5380ea56ea05"
      },
      "execution_count": null,
      "outputs": [
        {
          "output_type": "execute_result",
          "data": {
            "text/plain": [
              "<matplotlib.axes._subplots.AxesSubplot at 0x7f15c4bac390>"
            ]
          },
          "metadata": {},
          "execution_count": 160
        },
        {
          "output_type": "display_data",
          "data": {
            "text/plain": [
              "<Figure size 432x288 with 2 Axes>"
            ],
            "image/png": "[encoded data removed]"
          },
          "metadata": {
            "needs_background": "light"
          }
        }
      ]
    },
    {
      "cell_type": "code",
      "source": [
        "\n"
      ],
      "metadata": {
        "id": "vTvethc4n50V"
      },
      "execution_count": null,
      "outputs": []
    },
    {
      "cell_type": "code",
      "source": [],
      "metadata": {
        "id": "-67Vp5b_onTg"
      },
      "execution_count": null,
      "outputs": []
    },
    {
      "cell_type": "code",
      "source": [],
      "metadata": {
        "id": "nLGL8l1rpCzQ"
      },
      "execution_count": null,
      "outputs": []
    }
  ]
}